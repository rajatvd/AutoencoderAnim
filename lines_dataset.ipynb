{
 "cells": [
  {
   "cell_type": "markdown",
   "metadata": {},
   "source": [
    "# An infinite dataset of images with random lines, curves and ellipses"
   ]
  },
  {
   "cell_type": "markdown",
   "metadata": {},
   "source": [
    "## Imports"
   ]
  },
  {
   "cell_type": "code",
   "execution_count": 1,
   "metadata": {},
   "outputs": [],
   "source": [
    "import writefile_run"
   ]
  },
  {
   "cell_type": "code",
   "execution_count": 2,
   "metadata": {},
   "outputs": [],
   "source": [
    "%%writefile_run lines_curves_dataset.py\n",
    "\n",
    "\n",
    "\"\"\"Dataset which generates images with random lines and curves\"\"\"\n",
    "\n",
    "import torch\n",
    "from torch.utils.data import *\n",
    "import skimage.draw as d\n",
    "from skimage.filters import gaussian\n",
    "import numpy as np\n",
    "from numpy.random import *\n",
    "from scipy.ndimage.morphology import *"
   ]
  },
  {
   "cell_type": "code",
   "execution_count": 3,
   "metadata": {},
   "outputs": [],
   "source": [
    "from pylab import *"
   ]
  },
  {
   "cell_type": "code",
   "execution_count": 4,
   "metadata": {},
   "outputs": [],
   "source": [
    "style.use('dark_background')"
   ]
  },
  {
   "cell_type": "markdown",
   "metadata": {},
   "source": [
    "# Helper functions to add lines and curves to an image"
   ]
  },
  {
   "cell_type": "code",
   "execution_count": 5,
   "metadata": {},
   "outputs": [],
   "source": [
    "%%writefile_run lines_curves_dataset.py -a\n",
    "\n",
    "\n",
    "def addLine(img, x_range=(0,64), y_range=(0,64), val=1, dil_range=(2,4), shape=(64,64)):\n",
    "    \"\"\"Adds a random line to img, which could be a 2D numpy array or torch tensor.\n",
    "    Mutates the input img.\n",
    "    \n",
    "    Arguments\n",
    "    ---------\n",
    "    x_range: The range over x values which line endpoints can take\n",
    "    y_range: The range over y values which line endpoints can take\n",
    "    val: The value to fill at points on the added line\n",
    "    shape: The shape of the image to truncate the curve if it exceeds the limits\n",
    "    dil_range: The range of kernel sizes to randomly choose between for dilating the\n",
    "        drawn object. Effectively corresponds to stroke width.\n",
    "    \"\"\"\n",
    "    r,c = d.line(randint(*x_range),randint(*y_range),\n",
    "                 randint(*x_range),randint(*y_range))\n",
    "    \n",
    "    temp_img = np.zeros(shape)\n",
    "    temp_img[r,c]=val\n",
    "    \n",
    "    dilate_size = np.random.randint(*dil_range)\n",
    "    temp_img = grey_dilation(temp_img,size=(dilate_size,dilate_size))\n",
    "    \n",
    "    img[np.where(temp_img==val)]=val\n",
    "    \n",
    "    return img"
   ]
  },
  {
   "cell_type": "code",
   "execution_count": 6,
   "metadata": {},
   "outputs": [],
   "source": [
    "%%writefile_run lines_curves_dataset.py -a\n",
    "\n",
    "\n",
    "def addCurve(img,x_range=(0,64),y_range=(0,64),val=1,dil_range=(2,4),shape=(64,64)):\n",
    "    \"\"\"Adds a random line to img, which could be a 2D numpy array or torch tensor.\n",
    "    Mutates the input img.\n",
    "    \n",
    "    Arguments\n",
    "    ---------\n",
    "    x_range: The range over x values which the control points can take\n",
    "    y_range: The range over y values which the control points can take\n",
    "    val: The value to fill at points on the added line\n",
    "    shape: The shape of the image to truncate the curve if it exceeds the limits\n",
    "    dil_range: The range of kernel sizes to randomly choose between for dilating the\n",
    "        drawn object. Effectively corresponds to stroke width.\n",
    "    \"\"\"\n",
    "    r,c = d.bezier_curve(randint(*x_range),randint(*y_range),\n",
    "                           randint(*x_range),randint(*y_range),\n",
    "                           randint(*x_range),randint(*y_range),\n",
    "                           1,shape=shape)\n",
    "    \n",
    "    temp_img = np.zeros(shape)\n",
    "    temp_img[r,c]=val\n",
    "    \n",
    "    dilate_size = np.random.randint(*dil_range)\n",
    "    temp_img = grey_dilation(temp_img,size=(dilate_size,dilate_size))\n",
    "    \n",
    "    img[np.where(temp_img==val)]=val\n",
    "    \n",
    "    return img"
   ]
  },
  {
   "cell_type": "code",
   "execution_count": 7,
   "metadata": {},
   "outputs": [],
   "source": [
    "%%writefile_run lines_curves_dataset.py -a\n",
    "\n",
    "\n",
    "def addEllipse(img, x_range=(0,64),y_range=(0,64),val=1,dil_range=(2,4),shape=(64,64)):\n",
    "    \"\"\"Adds a random ellipse to img, which could be a 2D numpy array or torch tensor.\n",
    "    Mutates the input img.\n",
    "    \n",
    "    Arguments\n",
    "    ---------\n",
    "    x_range: The range over x values which line endpoints can take\n",
    "    y_range: The range over y values which line endpoints can take\n",
    "    val: The value to fill at points on the added line\n",
    "    shape: The shape of the image to truncate the curve if it exceeds the limits\n",
    "    dil_range: The range of kernel sizes to randomly choose between for dilating the\n",
    "        drawn object. Effectively corresponds to stroke width.\n",
    "    \"\"\"\n",
    "    xdiff = x_range[1]-x_range[0]\n",
    "    ydiff = y_range[1]-y_range[0]\n",
    "    max_r = min(xdiff,ydiff)/2\n",
    "    r,c = d.ellipse_perimeter(randint(*x_range),randint(*y_range),\n",
    "                 randint(max_r/4,max_r),randint(max_r/4,max_r),orientation=random()*np.pi,\n",
    "                             shape=shape)\n",
    "    temp_img = np.zeros(shape)\n",
    "    temp_img[r,c]=val\n",
    "    \n",
    "    dilate_size = np.random.randint(*dil_range)\n",
    "    temp_img = grey_dilation(temp_img,size=(dilate_size,dilate_size))\n",
    "    \n",
    "    img[np.where(temp_img==val)]=val\n",
    "    \n",
    "    return img"
   ]
  },
  {
   "cell_type": "markdown",
   "metadata": {},
   "source": [
    "## Example"
   ]
  },
  {
   "cell_type": "code",
   "execution_count": null,
   "metadata": {},
   "outputs": [],
   "source": []
  },
  {
   "cell_type": "code",
   "execution_count": 17,
   "metadata": {},
   "outputs": [
    {
     "data": {
      "text/plain": [
       "<Figure size 432x288 with 0 Axes>"
      ]
     },
     "metadata": {},
     "output_type": "display_data"
    },
    {
     "data": {
      "image/png": "[encoded data removed]",
      "text/plain": [
       "<Figure size 720x720 with 3 Axes>"
      ]
     },
     "metadata": {},
     "output_type": "display_data"
    }
   ],
   "source": [
    "gray()\n",
    "\n",
    "im = torch.zeros(size=(64,64)).numpy()\n",
    "addLine(im)\n",
    "addCurve(im)\n",
    "addCurve(im)\n",
    "addEllipse(im)\n",
    "subplots(1,2,figsize=(10,10))\n",
    "\n",
    "# Plotting inital image\n",
    "subplot(1,3,1)\n",
    "axis('off')\n",
    "imshow(im)\n",
    "\n",
    "# Plotting dilated image\n",
    "subplot(1,3,2)\n",
    "axis('off')\n",
    "im = grey_dilation(im,size=(3,3))\n",
    "im = gaussian(im,sigma=0.7)\n",
    "imshow(im)\n",
    "\n",
    "# Plotting eroded image\n",
    "subplot(1,3,3)\n",
    "axis('off')\n",
    "im = grey_erosion(im,size=(3,3))\n",
    "imshow(im)\n",
    "show()"
   ]
  },
  {
   "cell_type": "markdown",
   "metadata": {},
   "source": [
    "# The dataset class"
   ]
  },
  {
   "cell_type": "code",
   "execution_count": 13,
   "metadata": {},
   "outputs": [],
   "source": [
    "%%writefile_run lines_curves_dataset.py -a\n",
    "\n",
    "class LinesCurvesDataset(Dataset):\n",
    "    def __init__(self, imgs_per_epoch = 5000,\n",
    "                 nlines_range=(1,2),ncurves_range=(1,2),nellipses_range=(1,2),\n",
    "                 x_range=(0,64),y_range=(0,64),dilation_size_range=(2,4),\n",
    "                 img_size=(64,64),blur_sigma=0.7,\n",
    "                 transform=None,\n",
    "                 device=torch.device('cuda')):\n",
    "        \"\"\"A dataset which generates images with random lines and curves\n",
    "        \n",
    "        Arguments\n",
    "        ---------\n",
    "        imgs_per_epoch: A number signifying how many images to be generated in an epoch.\n",
    "        It is equal to the length of this dataset.\n",
    "        \n",
    "        nlines_range, ncurves_range, nellipses_range: The range of number(random) of lines and curves \n",
    "            in the image given by (low,high), with low inclusive and high exclusive.\n",
    "        \n",
    "        x_range, y_range: The range of x and y coordinates(random) in the image which\n",
    "            can be endpoints or control points of the lines or curves.\n",
    "        \n",
    "        dilation_size_range The range of kernel size(random) for grey_dilation to expand strokes.\n",
    "        \n",
    "        img_size: The size of each image.\n",
    "        \n",
    "        blur_sigma: The standard deviation of the gaussian blur applied after adding the\n",
    "            lines and curves.\n",
    "            \n",
    "        device: The torch device of the tensor returned.\n",
    "        \n",
    "        Each image has shape (1,*img_size)\n",
    "        \"\"\"\n",
    "        \n",
    "        self.imgs_per_epoch = imgs_per_epoch\n",
    "        self.nlines_range = nlines_range\n",
    "        self.ncurves_range = ncurves_range\n",
    "        self.nellipses_range = nellipses_range\n",
    "        self.x_range = x_range\n",
    "        self.y_range = y_range\n",
    "        self.dilation_size_range = dilation_size_range\n",
    "        self.img_size = img_size\n",
    "        self.blur_sigma = blur_sigma\n",
    "        self.device = device\n",
    "        self.transform = transform\n",
    "        \n",
    "    def __len__(self):\n",
    "        return self.imgs_per_epoch\n",
    "    \n",
    "    def __getitem__(self,i):\n",
    "        \n",
    "        # init image\n",
    "        im = np.zeros(self.img_size)\n",
    "        \n",
    "        # Add lines\n",
    "        nlines = np.random.randint(*self.nlines_range)\n",
    "        for a in range(nlines):\n",
    "            addLine(im, \n",
    "                    x_range=self.x_range, \n",
    "                    y_range=self.y_range, \n",
    "                    dil_range=self.dilation_size_range,\n",
    "                    shape=self.img_size)\n",
    "        \n",
    "        # Add curves\n",
    "        ncurves = np.random.randint(*self.ncurves_range)\n",
    "        for a in range(ncurves):\n",
    "            addCurve(im, \n",
    "                     x_range=self.x_range, \n",
    "                     y_range=self.y_range, \n",
    "                     dil_range=self.dilation_size_range, \n",
    "                     shape=self.img_size)\n",
    "        \n",
    "        # Add ellipses\n",
    "        nellipses = np.random.randint(*self.nellipses_range)\n",
    "        for a in range(nellipses):\n",
    "            addEllipse(im, \n",
    "                       x_range=self.x_range, \n",
    "                       y_range=self.y_range, \n",
    "                       dil_range=self.dilation_size_range, \n",
    "                       shape=self.img_size)\n",
    "\n",
    "        # blur\n",
    "        im = gaussian(im,sigma=self.blur_sigma)\n",
    "\n",
    "        # convert to tensor\n",
    "        im = torch.tensor(im,dtype=torch.float32,device=self.device)\n",
    "        \n",
    "        # reshape\n",
    "        im = im.view(1,*self.img_size)\n",
    "        \n",
    "        # transform if given\n",
    "        if self.transform != None:\n",
    "            im = self.transform(im)\n",
    "        \n",
    "        return im\n",
    "    \n",
    "    def __str__(self):\n",
    "        var_names = '\\n'.join([f'{k} = {v}' for k,v in self.__dict__.items()])\n",
    "        return f\"{self.__class__}\\n{var_names}\""
   ]
  },
  {
   "cell_type": "markdown",
   "metadata": {},
   "source": [
    "## Example usage of dataset"
   ]
  },
  {
   "cell_type": "code",
   "execution_count": 14,
   "metadata": {},
   "outputs": [
    {
     "data": {
      "text/plain": [
       "<matplotlib.image.AxesImage at 0x7f8cf2b9beb8>"
      ]
     },
     "execution_count": 14,
     "metadata": {},
     "output_type": "execute_result"
    },
    {
     "data": {
      "image/png": "[encoded data removed]",
      "text/plain": [
       "<Figure size 432x288 with 1 Axes>"
      ]
     },
     "metadata": {},
     "output_type": "display_data"
    }
   ],
   "source": [
    "test_dset = LinesCurvesDataset()\n",
    "im = test_dset[0]\n",
    "axis('off')\n",
    "imshow(im.squeeze())"
   ]
  },
  {
   "cell_type": "code",
   "execution_count": 18,
   "metadata": {},
   "outputs": [
    {
     "name": "stdout",
     "output_type": "stream",
     "text": [
      "<class '__main__.LinesCurvesDataset'>\n",
      "imgs_per_epoch = 5000\n",
      "nlines_range = (1, 2)\n",
      "ncurves_range = (1, 2)\n",
      "nellipses_range = (1, 2)\n",
      "x_range = (0, 64)\n",
      "y_range = (0, 64)\n",
      "dilation_size_range = (2, 4)\n",
      "img_size = (64, 64)\n",
      "blur_sigma = 0.7\n",
      "device = cuda\n",
      "transform = None\n"
     ]
    }
   ],
   "source": [
    "print(str(test_dset))"
   ]
  }
 ],
 "metadata": {
  "kernelspec": {
   "display_name": "Python 3",
   "language": "python",
   "name": "python3"
  },
  "language_info": {
   "codemirror_mode": {
    "name": "ipython",
    "version": 3
   },
   "file_extension": ".py",
   "mimetype": "text/x-python",
   "name": "python",
   "nbconvert_exporter": "python",
   "pygments_lexer": "ipython3",
   "version": "3.6.5"
  }
 },
 "nbformat": 4,
 "nbformat_minor": 2
}
